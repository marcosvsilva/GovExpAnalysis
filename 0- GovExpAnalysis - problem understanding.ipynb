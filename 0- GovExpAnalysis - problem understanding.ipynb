{
 "cells": [
  {
   "cell_type": "markdown",
   "id": "a4b6cf0c",
   "metadata": {},
   "source": [
    "# Gov Exploratory Analysis\n",
    "\n",
    "## Autor: Marcos Vinicius Ribeiro Silva"
   ]
  },
  {
   "cell_type": "markdown",
   "id": "e6a74726",
   "metadata": {},
   "source": [
    "## Definição:\n",
    "\n",
    "Projeto para análise de dados utilizando os dados públicos disponibilizados pelo [dataSUS](https://datasus.saude.gov.br) a fim de obter conclusões sobre o evolução do número de leitos do SUS do estado de Goiás no período da pandemia do COVID-19."
   ]
  },
  {
   "cell_type": "markdown",
   "id": "7eea1011",
   "metadata": {},
   "source": [
    "## Motivação:\n",
    "\n",
    "A motivação deste trabalho é inicialmente pleitear uma vaga de cientista de dados no time de desenvolvimento do governo de Goiás;\n",
    "\n",
    "Segundo é testar a capacidade do autor em realizar uma análise de dados utilizando o sistema dataSUS e, praticar e evoluir as técnicas de engenharia de dados e ciência de dados."
   ]
  },
  {
   "cell_type": "markdown",
   "id": "cbefdbc2",
   "metadata": {},
   "source": [
    "## Objetivos:\n",
    "\n",
    "O principal objetivo deste trabalho é validar a notícia publiaca pelo próprio governo de Goiás [link](https://www.saude.go.gov.br/noticias/16950-governo-de-goias-mantem-leitos-instalados-no-periodo-critico-da-pandemia) onde afirmar que os leitos instalados no período pandemia continuam mantidos pelo sistema único de saúde (SUS) no estado de Goiás;\n",
    "\n",
    "Os objetivos secundários são analisar a instalação de leitos no período de Goiás com os outros estados do Brasil, analisar a ocupação neste leitos antes da pandemia e no período da pandemia e por fim, compara os resultados do estado de Goiás com os outros estados."
   ]
  },
  {
   "cell_type": "markdown",
   "id": "3f4bc0c8",
   "metadata": {},
   "source": [
    "## Bibliografia:\n",
    "* DataSUS: https://datasus.saude.gov.br;\n",
    "* Governo de Goiás mantém leitos instalados no período crítico da pandemia: https://www.saude.go.gov.br/noticias/16950-governo-de-goias-mantem-leitos-instalados-no-periodo-critico-da-pandemia;\n",
    "* Formato de dados proprietário DataSUS: https://github.com/greatjapa/dbc2csv"
   ]
  }
 ],
 "metadata": {
  "kernelspec": {
   "display_name": "Python 3",
   "language": "python",
   "name": "python3"
  },
  "language_info": {
   "codemirror_mode": {
    "name": "ipython",
    "version": 3
   },
   "file_extension": ".py",
   "mimetype": "text/x-python",
   "name": "python",
   "nbconvert_exporter": "python",
   "pygments_lexer": "ipython3",
   "version": "3.6.13"
  }
 },
 "nbformat": 4,
 "nbformat_minor": 5
}
