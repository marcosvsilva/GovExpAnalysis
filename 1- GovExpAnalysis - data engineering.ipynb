{
 "cells": [
  {
   "cell_type": "markdown",
   "id": "baf7b260",
   "metadata": {},
   "source": [
    "# Gov Exploratory Analysis - 1st step\n",
    "\n",
    "### Etapa de engenharia de dados.\n",
    "#### Este script realiza a busca dos dados no repositório do datasus para criar o dataset a ser utilizado na etapa de análise de dados. Busca todos os dados disponíveis dos 27 estados brasileiros desde 2006 até o final de 2023. Todos os dados são obtidos em formato prioritário do próprio datasus (.dbc) e é utilizado um script terceiro [(dbc2csv)](https://github.com/greatjapa/dbc2csv) para realizar a conversão para csv.\n",
    "\n",
    "### Author: Marcos Vinicius Ribeiro Silva"
   ]
  },
  {
   "cell_type": "markdown",
   "id": "eae1f9aa",
   "metadata": {},
   "source": [
    "## Params\n",
    "### Os parâmetros podem ser alterados a fim de se obter um dataset diferente para a análise. Neste estudo de caso foi utilizado os anos da pandemia no Brasil (Do início de 2020 ao final de 2021) em comparação com os 3 anos anteriores (2017, 2018 e 2019)"
   ]
  },
  {
   "cell_type": "code",
   "execution_count": null,
   "id": "6191179f",
   "metadata": {},
   "outputs": [],
   "source": [
    "pandemic_years = [20, 21] # pandemic years in Brazil\n",
    "years_compare_before = [17, 18, 19] # years to compare sets in hospital before pandemic years\n",
    "years_compare_after = [22] # years to compare sets in hospital after pandemic years\n",
    "download_data = True # param to download data (set True if you don't have the data)"
   ]
  },
  {
   "cell_type": "markdown",
   "id": "2cd0a9fc",
   "metadata": {},
   "source": [
    "## Libraries"
   ]
  },
  {
   "cell_type": "code",
   "execution_count": null,
   "id": "4d97b314",
   "metadata": {},
   "outputs": [],
   "source": [
    "import urllib.request\n",
    "import os\n",
    "import pandas as pd"
   ]
  },
  {
   "cell_type": "markdown",
   "id": "c62af6e9",
   "metadata": {},
   "source": [
    "## Generate link and get all files for generate dataset"
   ]
  },
  {
   "cell_type": "code",
   "execution_count": null,
   "id": "8939a9b8",
   "metadata": {},
   "outputs": [],
   "source": [
    "file_name = 'LT{}{}{}'\n",
    "file_link = 'ftp://ftp.datasus.gov.br/dissemin/publicos/CNES/200508_/Dados/LT/{}.dbc'"
   ]
  },
  {
   "cell_type": "code",
   "execution_count": null,
   "id": "d77d5f25",
   "metadata": {},
   "outputs": [],
   "source": [
    "path_data = 'data'\n",
    "months = [x for x in range(1, 13)] # all months in years\n",
    "years = [x for x in range(2006, 2023)] # data available in datasus\n",
    "states = ['AC', 'AL', 'AM', 'AP', 'BA', 'CE', 'DF', 'ES', 'GO', 'MA', 'MG',\n",
    "          'MS', 'MT', 'PA', 'PB',  'PE', 'PI', 'PR', 'RJ', 'RN', 'RO', 'RR',\n",
    "         'RS', 'SC', 'SE', 'SP', 'TO'] # all stats in Brazil"
   ]
  },
  {
   "cell_type": "code",
   "execution_count": null,
   "id": "75fa7d5a",
   "metadata": {
    "scrolled": false
   },
   "outputs": [],
   "source": [
    "if download_data:\n",
    "    if path_data not in os.listdir(os.getcwd()):\n",
    "        os.mkdir(path_data)\n",
    "    \n",
    "    for year in years:\n",
    "        for month in months:\n",
    "            for state in states:\n",
    "                syear = str(year)[2:4:]\n",
    "                smonth = str(month).zfill(2)\n",
    "                download_name = file_name.format(state, syear, smonth)\n",
    "                download_link = file_link.format(download_name)\n",
    "                try:\n",
    "                    out_file = os.path.join(path_data, '{}.dbc'.format(download_name))\n",
    "                    urllib.request.urlretrieve(download_link, out_file)\n",
    "                except:\n",
    "                    pass"
   ]
  },
  {
   "cell_type": "markdown",
   "id": "cf0f9b6c",
   "metadata": {},
   "source": [
    "## Convert data to .csv"
   ]
  },
  {
   "cell_type": "code",
   "execution_count": null,
   "id": "5690e5fb",
   "metadata": {},
   "outputs": [],
   "source": [
    "if download_data:\n",
    "    path_files = os.path.join(os.getcwd(), path_data)\n",
    "    \n",
    "    if 'dbc2csv' not in os.listdir(os.getcwd()):\n",
    "        !git clone https://github.com/greatjapa/dbc2csv\n",
    "\n",
    "    !docker build -t dbc2csv dbc2csv/\n",
    "    !docker run -it -v $path_files:/usr/src/app/data dbc2csv make"
   ]
  },
  {
   "cell_type": "markdown",
   "id": "1c16a0d7",
   "metadata": {},
   "source": [
    "## Generate new dataset with .csv files"
   ]
  },
  {
   "cell_type": "code",
   "execution_count": null,
   "id": "570e5c75",
   "metadata": {
    "scrolled": true
   },
   "outputs": [],
   "source": [
    "csv_path_files = os.path.join(path_data, 'csv')\n",
    "new_data = pd.DataFrame()\n",
    "validate_years = pandemic_years + years_compare_before + years_compare_after\n",
    "\n",
    "if len(validate_years) > 0:\n",
    "    for file in os.listdir(csv_path_files):\n",
    "        if '.csv' in file:\n",
    "            state, year, month = file[2:4], int(file[4:6]), int(file[6:8])\n",
    "            if year in validate_years:\n",
    "                print(file)\n",
    "                aux_data = pd.read_csv(os.path.join(csv_path_files, file), encoding='unicode_escape')\n",
    "                aux_data['MES'] = month\n",
    "                aux_data['ANO'] = year\n",
    "                aux_data['ESTADO'] = state\n",
    "                new_data = pd.DataFrame.append(new_data, aux_data)"
   ]
  },
  {
   "cell_type": "code",
   "execution_count": null,
   "id": "2ab4e8bc",
   "metadata": {},
   "outputs": [],
   "source": [
    "new_data.head()\n",
    "new_data.to_csv('data.csv', index=False)"
   ]
  },
  {
   "cell_type": "markdown",
   "id": "ac16c201",
   "metadata": {},
   "source": [
    "## New dataset generated"
   ]
  }
 ],
 "metadata": {
  "kernelspec": {
   "display_name": "Python 3",
   "language": "python",
   "name": "python3"
  },
  "language_info": {
   "codemirror_mode": {
    "name": "ipython",
    "version": 3
   },
   "file_extension": ".py",
   "mimetype": "text/x-python",
   "name": "python",
   "nbconvert_exporter": "python",
   "pygments_lexer": "ipython3",
   "version": "3.6.13"
  }
 },
 "nbformat": 4,
 "nbformat_minor": 5
}
